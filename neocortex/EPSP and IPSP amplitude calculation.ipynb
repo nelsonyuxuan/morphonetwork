{
 "cells": [
  {
   "cell_type": "code",
   "execution_count": 42,
   "id": "31f52871",
   "metadata": {},
   "outputs": [],
   "source": [
    "import pickle\n",
    "import numpy as np"
   ]
  },
  {
   "cell_type": "code",
   "execution_count": 43,
   "id": "8a39c53a",
   "metadata": {},
   "outputs": [],
   "source": [
    "with open('/Users/nelsonwu/Library/CloudStorage/OneDrive-Personal/FridmanLab/Computational_Project/neocortex_ABAN/FigureAndData/Voltage_trace.pkl', 'rb') as f:\n",
    "    data = pickle.load(f)"
   ]
  },
  {
   "cell_type": "code",
   "execution_count": 44,
   "id": "336775b5",
   "metadata": {},
   "outputs": [
    {
     "name": "stdout",
     "output_type": "stream",
     "text": [
      "{'tracesData': [{'t': array([0.0000e+00, 1.0000e-01, 2.0000e-01, ..., 4.4998e+03, 4.4999e+03,\n",
      "       4.5000e+03]), 'cell_0_V_soma': array([-80.        , -79.98641336, -79.97231848, ..., -74.21217932,\n",
      "       -74.21217932, -74.21217932])}, {'t': array([0.0000e+00, 1.0000e-01, 2.0000e-01, ..., 4.4998e+03, 4.4999e+03,\n",
      "       4.5000e+03]), 'cell_1_V_soma': array([-80.        , -79.99653514, -79.98951765, ..., -77.80110239,\n",
      "       -77.80110239, -77.80110239])}, {'t': array([0.0000e+00, 1.0000e-01, 2.0000e-01, ..., 4.4998e+03, 4.4999e+03,\n",
      "       4.5000e+03]), 'cell_2_V_soma': array([-80.        , -79.98641336, -79.97231848, ..., -74.21217912,\n",
      "       -74.21217912, -74.21217912])}], 'include': [('pre', 0), ('sst', 0), ('post', 0)], 'timeRange': [0, 4500.0], 'oneFigPer': 'cell', 'saveData': '/Users/nelsonwu/Library/CloudStorage/OneDrive-Personal/FridmanLab/Computational_Project/neocortex_ABAN/FigureAndData/Voltage_trace.pkl', 'saveFig': '/Users/nelsonwu/Library/CloudStorage/OneDrive-Personal/FridmanLab/Computational_Project/neocortex_ABAN/FigureAndData/Disynaptic_Inhibition_LOOP_MODEL', 'showFig': True}\n",
      "[-80.         -79.98641336 -79.97231848 ... -74.21217912 -74.21217912\n",
      " -74.21217912]\n",
      "[0.0000e+00 1.0000e-01 2.0000e-01 ... 4.4998e+03 4.4999e+03 4.5000e+03]\n",
      "[-80.         -79.98641336 -79.97231848 ... -74.21217932 -74.21217932\n",
      " -74.21217932]\n",
      "{'t': array([0.0000e+00, 1.0000e-01, 2.0000e-01, ..., 4.4998e+03, 4.4999e+03,\n",
      "       4.5000e+03]), 'cell_1_V_soma': array([-80.        , -79.99653514, -79.98951765, ..., -77.80110239,\n",
      "       -77.80110239, -77.80110239])}\n"
     ]
    }
   ],
   "source": [
    "print(data)\n",
    "print(data['tracesData'][2]['cell_2_V_soma'])\n",
    "print(data['tracesData'][0]['t'])\n",
    "print(data['tracesData'][0]['cell_0_V_soma'])\n",
    "print(data['tracesData'][1])"
   ]
  },
  {
   "attachments": {},
   "cell_type": "markdown",
   "id": "eb142b92",
   "metadata": {},
   "source": [
    "## EPSP Calculation"
   ]
  },
  {
   "cell_type": "code",
   "execution_count": 45,
   "id": "2e88bc7d",
   "metadata": {},
   "outputs": [
    {
     "name": "stdout",
     "output_type": "stream",
     "text": [
      "EPSP amplitude approximation:  2.0960941421461428\n",
      "The membrane potential when the excitatory synapse hits:  -77.80108858146181\n",
      "The maximum membrane potential right after the excitatory synapse hits:  -75.70499443931567\n"
     ]
    }
   ],
   "source": [
    "# Detection threshold\n",
    "spike_threshold = 20\n",
    "\n",
    "# Find the time index of the voltage that first reaches the threshold\n",
    "idxs_synapse_hit = np.where(data['tracesData'][0]['cell_0_V_soma'] > spike_threshold)[0] \n",
    "idx_synapse_hit = idxs_synapse_hit[0]\n",
    "\n",
    "# Get the voltage at the time index\n",
    "voltage_synapse = data['tracesData'][1]['cell_1_V_soma'][idx_synapse_hit]\n",
    "\n",
    "# Maximum voltage from spike forward\n",
    "voltage_max = np.max(data['tracesData'][1]['cell_1_V_soma'][idx_synapse_hit:])\n",
    "\n",
    "# Calculate the voltage change\n",
    "voltage_change = voltage_max - voltage_synapse\n",
    "\n",
    "print(\"EPSP amplitude approximation: \", voltage_change)\n",
    "print(\"The membrane potential when the excitatory synapse hits: \", voltage_synapse)\n",
    "print(\"The maximum membrane potential right after the excitatory synapse hits: \", voltage_max)"
   ]
  },
  {
   "attachments": {},
   "cell_type": "markdown",
   "id": "a9fa057c",
   "metadata": {},
   "source": [
    "## IPSP Calculation"
   ]
  },
  {
   "cell_type": "code",
   "execution_count": 29,
   "id": "f53a4ea1",
   "metadata": {},
   "outputs": [
    {
     "name": "stdout",
     "output_type": "stream",
     "text": [
      "IPSP amplitude approximation:  0.0\n",
      "The membrane potential when the inhibitory synapse hits:  -74.21260779954002\n",
      "The lowest membrane potential right after the inhibitory synapse hits:  -74.21260779954002\n"
     ]
    }
   ],
   "source": [
    "\n",
    "\n",
    "# Get the voltage at when synapse hit \n",
    "voltage_synapse = data['tracesData'][2]['cell_2_V_soma'][idx_synapse_hit]\n",
    "\n",
    "# Minimum voltage from 150ms onward \n",
    "voltage_min = np.min(data['tracesData'][2]['cell_2_V_soma'][idx_synapse_hit:])\n",
    "\n",
    "# Calculate the voltage change\n",
    "voltage_change = voltage_synapse - voltage_min\n",
    "\n",
    "print(\"IPSP amplitude approximation: \", voltage_change)\n",
    "print(\"The membrane potential when the inhibitory synapse hits: \", voltage_synapse)\n",
    "print(\"The lowest membrane potential right after the inhibitory synapse hits: \", voltage_min)"
   ]
  },
  {
   "cell_type": "code",
   "execution_count": null,
   "id": "b50a1a69",
   "metadata": {},
   "outputs": [],
   "source": []
  }
 ],
 "metadata": {
  "kernelspec": {
   "display_name": "Python 3 (ipykernel)",
   "language": "python",
   "name": "python3"
  },
  "language_info": {
   "codemirror_mode": {
    "name": "ipython",
    "version": 3
   },
   "file_extension": ".py",
   "mimetype": "text/x-python",
   "name": "python",
   "nbconvert_exporter": "python",
   "pygments_lexer": "ipython3",
   "version": "3.9.13"
  }
 },
 "nbformat": 4,
 "nbformat_minor": 5
}
